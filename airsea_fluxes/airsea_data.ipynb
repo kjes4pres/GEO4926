{
 "cells": [
  {
   "cell_type": "code",
   "execution_count": 1,
   "metadata": {},
   "outputs": [],
   "source": [
    "import coare35vn"
   ]
  },
  {
   "attachments": {},
   "cell_type": "markdown",
   "metadata": {},
   "source": [
    "# Script to evaluate fluxes from bulk parameters\n",
    "Using COARE 3.5. Note that the code containing the main output function for COARE has been adjusted to only return the values we need here.\n",
    "\n",
    "2025-04-21 _kaihc@met.no_ "
   ]
  },
  {
   "cell_type": "code",
   "execution_count": 2,
   "metadata": {},
   "outputs": [],
   "source": [
    "# Input data for COARE algorithm:\n",
    "windspeed = 5.4\n",
    "airTemperature = 7.8\n",
    "relativeHumidity = 50.0\n",
    "bulkSST = 7.4\n",
    "latitude = 59.9\n",
    "MSLP = 1011.1\n",
    "Hs = 0.2\n",
    "rain = 0.0 # mm/hour\n",
    "mastHeight = 8.0\n",
    "cloudCover = 7.0 # oktas\n",
    "QswIdeal = 970.0 # https://www.clearskycalculator.com/ (Get shortwave estimate for correct time of day and position.)"
   ]
  },
  {
   "cell_type": "code",
   "execution_count": 3,
   "metadata": {},
   "outputs": [],
   "source": [
    "# Calculate fluxes using COARE\n",
    "Cfrac = cloudCover/8.0\n",
    "albedo = 0.06\n",
    "Qshortwave = (1.0-albedo)*QswIdeal*(1-Cfrac**3)\n",
    "A = coare35vn.coare35vn(windspeed, airTemperature, relativeHumidity, bulkSST, P=MSLP, Rs=Qshortwave, sigH = Hs, zu=mastHeight, zt=mastHeight, zq=mastHeight, lat=latitude)\n",
    "tau, Qsensible, Qlatent, LWnet, QnetMinusSW, evaporation = A[0].T"
   ]
  },
  {
   "cell_type": "code",
   "execution_count": 4,
   "metadata": {},
   "outputs": [],
   "source": [
    "# Calculate net heat flux\n",
    "Qnet = -QnetMinusSW + Qshortwave"
   ]
  },
  {
   "cell_type": "code",
   "execution_count": 5,
   "metadata": {},
   "outputs": [
    {
     "name": "stdout",
     "output_type": "stream",
     "text": [
      "Summary of fluxes defined as positive into the ocean:\n",
      "Sensible heat flux,  4.07 W/m²\n",
      "Latent heat flux, -57.00 W/m²\n",
      "Shortwave flux, 300.97 W/m²\n",
      "Net longwave radiation, 18.35 W/m²\n",
      "Net heat flux, 266.38 W/m²\n"
     ]
    }
   ],
   "source": [
    "# Print results.\n",
    "print(\"Summary of fluxes defined as positive into the ocean:\")\n",
    "print(\"Sensible heat flux, %5.2f W/m²\" % (-Qsensible))\n",
    "print(\"Latent heat flux, %5.2f W/m²\" % (-Qlatent))\n",
    "print(\"Shortwave flux, %5.2f W/m²\" % (Qshortwave))\n",
    "print(\"Net longwave radiation, %5.2f W/m²\" % (-LWnet))\n",
    "print(\"Net heat flux, %5.2f W/m²\" % (Qnet))\n"
   ]
  }
 ],
 "metadata": {
  "kernelspec": {
   "display_name": "masters",
   "language": "python",
   "name": "python3"
  },
  "language_info": {
   "codemirror_mode": {
    "name": "ipython",
    "version": 3
   },
   "file_extension": ".py",
   "mimetype": "text/x-python",
   "name": "python",
   "nbconvert_exporter": "python",
   "pygments_lexer": "ipython3",
   "version": "3.12.4"
  },
  "orig_nbformat": 4
 },
 "nbformat": 4,
 "nbformat_minor": 2
}
